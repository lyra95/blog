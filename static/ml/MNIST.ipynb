{
 "metadata": {
  "language_info": {
   "codemirror_mode": {
    "name": "ipython",
    "version": 3
   },
   "file_extension": ".py",
   "mimetype": "text/x-python",
   "name": "python",
   "nbconvert_exporter": "python",
   "pygments_lexer": "ipython3",
   "version": "3.9.4"
  },
  "orig_nbformat": 2,
  "kernelspec": {
   "name": "python394jvsc74a57bd0ac59ebe37160ed0dfa835113d9b8498d9f09ceb179beaac4002f036b9467c963",
   "display_name": "Python 3.9.4 64-bit"
  },
  "metadata": {
   "interpreter": {
    "hash": "ac59ebe37160ed0dfa835113d9b8498d9f09ceb179beaac4002f036b9467c963"
   }
  }
 },
 "nbformat": 4,
 "nbformat_minor": 2,
 "cells": [
  {
   "cell_type": "code",
   "execution_count": 1,
   "metadata": {},
   "outputs": [],
   "source": [
    "import torch\n",
    "device = 'cuda' if torch.cuda.is_available() else 'cpu'"
   ]
  },
  {
   "cell_type": "code",
   "execution_count": 2,
   "metadata": {},
   "outputs": [],
   "source": [
    "from torch.utils.data import Dataset\n",
    "from torchvision import datasets\n",
    "from torchvision.transforms import ToTensor\n",
    "\n",
    "training_data = datasets.FashionMNIST(root=\"data\", train=True,download=True,transform=ToTensor())\n",
    "\n",
    "test_data = datasets.FashionMNIST(root=\"data\", train=False,download=True,transform=ToTensor())"
   ]
  },
  {
   "cell_type": "code",
   "execution_count": 23,
   "metadata": {},
   "outputs": [],
   "source": [
    "from torch.utils.data import DataLoader\n",
    "\n",
    "train_dataloader = DataLoader(training_data, batch_size=64, shuffle=True)\n",
    "test_dataloader = DataLoader(test_data, batch_size=64, shuffle=True)"
   ]
  },
  {
   "cell_type": "code",
   "execution_count": 25,
   "metadata": {},
   "outputs": [],
   "source": [
    "import os\n",
    "import torch\n",
    "from torch import nn\n",
    "from torch.utils.data import DataLoader\n",
    "from torchvision import datasets, transforms\n",
    "class NeuralNetwork(nn.Module):\n",
    "    def __init__(self):\n",
    "        super(NeuralNetwork, self).__init__()\n",
    "        self.flatten = nn.Flatten()\n",
    "        self.linear_relu_stack = nn.Sequential(\n",
    "            nn.Linear(28*28, 512),\n",
    "            nn.ReLU(),\n",
    "            nn.Linear(512, 512),\n",
    "            nn.ReLU(),\n",
    "            nn.Linear(512, 10),\n",
    "            nn.ReLU()\n",
    "        )\n",
    "\n",
    "    def forward(self, x):\n",
    "        x = self.flatten(x)\n",
    "        logits = self.linear_relu_stack(x)\n",
    "        return logits"
   ]
  },
  {
   "cell_type": "code",
   "execution_count": 26,
   "metadata": {},
   "outputs": [],
   "source": [
    "def train_loop(dataloader, model, loss_fn, optimizer):\n",
    "    size = len(dataloader.dataset)\n",
    "    for batch, (X, y) in enumerate(dataloader):\n",
    "        X = X.to(device)    \n",
    "        y = y.to(device)\n",
    "        # Compute prediction and loss\n",
    "        pred = model(X)\n",
    "        loss = loss_fn(pred, y)\n",
    "\n",
    "        # Backpropagation\n",
    "        optimizer.zero_grad()\n",
    "        loss.backward()\n",
    "        optimizer.step()\n",
    "\n",
    "        if batch % 100 == 0:\n",
    "            loss, current = loss.item(), batch * len(X)\n",
    "            print(f\"loss: {loss:>7f}  [{current:>5d}/{size:>5d}]\")\n",
    "\n",
    "\n",
    "def test_loop(dataloader, model, loss_fn):\n",
    "    size = len(dataloader.dataset)\n",
    "    test_loss, correct = 0, 0\n",
    "\n",
    "    with torch.no_grad():\n",
    "        for X, y in dataloader:\n",
    "            X = X.to(device)\n",
    "            y = y.to(device)\n",
    "            pred = model(X)\n",
    "            test_loss += loss_fn(pred, y).item()\n",
    "            correct += (pred.argmax(1) == y).type(torch.float).sum().item()\n",
    "\n",
    "    test_loss /= size\n",
    "    correct /= size\n",
    "    print(f\"Test Error: \\n Accuracy: {(100*correct):>0.1f}%, Avg loss: {test_loss:>8f} \\n\")"
   ]
  },
  {
   "cell_type": "code",
   "execution_count": 27,
   "metadata": {},
   "outputs": [],
   "source": [
    "model = NeuralNetwork().to(device)\n",
    "\n",
    "loss_fn = nn.CrossEntropyLoss().to(device)\n",
    "learning_rate = 1e-3\n",
    "optimizer = torch.optim.SGD(model.parameters(), lr=learning_rate)"
   ]
  },
  {
   "cell_type": "code",
   "execution_count": 39,
   "metadata": {},
   "outputs": [
    {
     "output_type": "stream",
     "name": "stdout",
     "text": [
      "Epoch 1\n",
      "-------------------------------\n",
      "loss: 2.267664  [    0/60000]\n",
      "loss: 2.255674  [ 6400/60000]\n",
      "loss: 2.247961  [12800/60000]\n",
      "loss: 2.245626  [19200/60000]\n",
      "loss: 2.211425  [25600/60000]\n",
      "loss: 2.278155  [32000/60000]\n",
      "loss: 2.269533  [38400/60000]\n",
      "loss: 2.245637  [44800/60000]\n",
      "loss: 2.230669  [51200/60000]\n",
      "loss: 2.263699  [57600/60000]\n",
      "Test Error: \n",
      " Accuracy: 31.3%, Avg loss: 0.035343 \n",
      "\n",
      "Epoch 2\n",
      "-------------------------------\n",
      "loss: 2.261657  [    0/60000]\n",
      "loss: 2.247902  [ 6400/60000]\n",
      "loss: 2.261286  [12800/60000]\n",
      "loss: 2.254019  [19200/60000]\n",
      "loss: 2.238542  [25600/60000]\n",
      "loss: 2.243071  [32000/60000]\n",
      "loss: 2.225893  [38400/60000]\n",
      "loss: 2.230182  [44800/60000]\n",
      "loss: 2.255391  [51200/60000]\n",
      "loss: 2.256908  [57600/60000]\n",
      "Test Error: \n",
      " Accuracy: 31.4%, Avg loss: 0.035271 \n",
      "\n",
      "Epoch 3\n",
      "-------------------------------\n",
      "loss: 2.225970  [    0/60000]\n",
      "loss: 2.239163  [ 6400/60000]\n",
      "loss: 2.260407  [12800/60000]\n",
      "loss: 2.226233  [19200/60000]\n",
      "loss: 2.265757  [25600/60000]\n",
      "loss: 2.242791  [32000/60000]\n",
      "loss: 2.247330  [38400/60000]\n",
      "loss: 2.219470  [44800/60000]\n",
      "loss: 2.241805  [51200/60000]\n",
      "loss: 2.275492  [57600/60000]\n",
      "Test Error: \n",
      " Accuracy: 31.4%, Avg loss: 0.035187 \n",
      "\n",
      "Epoch 4\n",
      "-------------------------------\n",
      "loss: 2.224972  [    0/60000]\n",
      "loss: 2.199614  [ 6400/60000]\n",
      "loss: 2.277668  [12800/60000]\n",
      "loss: 2.204803  [19200/60000]\n",
      "loss: 2.229503  [25600/60000]\n",
      "loss: 2.245330  [32000/60000]\n",
      "loss: 2.235248  [38400/60000]\n",
      "loss: 2.248490  [44800/60000]\n",
      "loss: 2.240660  [51200/60000]\n",
      "loss: 2.238541  [57600/60000]\n",
      "Test Error: \n",
      " Accuracy: 31.3%, Avg loss: 0.035105 \n",
      "\n",
      "Epoch 5\n",
      "-------------------------------\n",
      "loss: 2.227298  [    0/60000]\n",
      "loss: 2.210498  [ 6400/60000]\n",
      "loss: 2.234020  [12800/60000]\n",
      "loss: 2.239282  [19200/60000]\n",
      "loss: 2.221357  [25600/60000]\n",
      "loss: 2.260846  [32000/60000]\n",
      "loss: 2.218152  [38400/60000]\n",
      "loss: 2.258309  [44800/60000]\n",
      "loss: 2.238761  [51200/60000]\n",
      "loss: 2.199051  [57600/60000]\n",
      "Test Error: \n",
      " Accuracy: 31.3%, Avg loss: 0.035012 \n",
      "\n",
      "Done!\n",
      "32.90625\n"
     ]
    }
   ],
   "source": [
    "import time\n",
    "start = time.process_time()\n",
    "epochs = 5\n",
    "for t in range(epochs):\n",
    "    print(f\"Epoch {t+1}\\n-------------------------------\")\n",
    "    train_loop(train_dataloader, model, loss_fn, optimizer)\n",
    "    test_loop(test_dataloader, model, loss_fn)\n",
    "print(\"Done!\")\n",
    "elapsed = time.process_time() - start\n",
    "print(elapsed)"
   ]
  },
  {
   "cell_type": "code",
   "execution_count": null,
   "metadata": {},
   "outputs": [],
   "source": []
  }
 ]
}